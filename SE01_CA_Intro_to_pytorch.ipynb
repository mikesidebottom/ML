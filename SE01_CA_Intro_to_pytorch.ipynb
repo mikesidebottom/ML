{
  "cells": [
    {
      "cell_type": "markdown",
      "metadata": {
        "id": "Is-DACpfZGhM"
      },
      "source": [
        "![Workshop Banner](https://raw.githubusercontent.com/CLDiego/uom_fse_dl_workshop/main/figs/se_01.png)\n",
        "[![Open In Colab](https://colab.research.google.com/assets/colab-badge.svg)](https://colab.research.google.com/github/CLDiego/uom_fse_dl_workshop/blob/main/SE01_CA_Intro_to_pytorch.ipynb)\n",
        "# Workshop Instructions\n",
        "***\n",
        "- <img src=\"https://raw.githubusercontent.com/CLDiego/uom_fse_dl_workshop/main/figs/icons/write.svg\" width=\"20\"/> Follow along by typing the code yourself - this helps with learning!\n",
        "- <img src=\"https://raw.githubusercontent.com/CLDiego/uom_fse_dl_workshop/main/figs/icons/code.svg\" width=\"20\"/> Code cells marked as \"Exercise\" are for you to complete\n",
        "- <img src=\"https://raw.githubusercontent.com/CLDiego/uom_fse_dl_workshop/main/figs/icons/reminder.svg\" width=\"20\"/> Look for hints if you get stuck\n",
        "- <img src=\"https://raw.githubusercontent.com/CLDiego/uom_fse_dl_workshop/main/figs/icons/success.svg\" width=\"20\" /> Compare your solution with the provided answers\n",
        "- <img src=\"https://raw.githubusercontent.com/CLDiego/uom_fse_dl_workshop/main/figs/icons/list.svg\" width=\"20\" /> Don't worry if you make mistakes - debugging is part of learning!"
      ]
    },
    {
      "cell_type": "code",
      "execution_count": 1,
      "metadata": {
        "id": "Rnz6LVLkZGhT",
        "outputId": "ddb1496a-59b6-4169-fef2-32096e3cd834",
        "colab": {
          "base_uri": "https://localhost:8080/"
        }
      },
      "outputs": [
        {
          "output_type": "stream",
          "name": "stdout",
          "text": [
            "colab_utils.txt     100%[===================>]   1.57K  --.-KB/s    in 0s      \n",
            "utils/__init__.py   100%[===================>]   1.75K  --.-KB/s    in 0s      \n",
            "utils/__version__.p 100%[===================>]     234  --.-KB/s    in 0s      \n",
            "utils/core.py       100%[===================>]  55.36K  --.-KB/s    in 0.01s   \n",
            "utils/quizzes.json  100%[===================>]  18.63K  --.-KB/s    in 0.001s  \n",
            "utils/solutions.jso 100%[===================>]  45.93K  --.-KB/s    in 0.01s   \n",
            "utils/data/__init__ 100%[===================>]     766  --.-KB/s    in 0s      \n",
            "utils/data/datasets 100%[===================>]   8.36K  --.-KB/s    in 0s      \n",
            "utils/data/download 100%[===================>]  11.24K  --.-KB/s    in 0s      \n",
            "utils/data/uwmgi.py 100%[===================>]  11.78K  --.-KB/s    in 0s      \n",
            "utils/ml/__init__.p 100%[===================>]     526  --.-KB/s    in 0s      \n",
            "utils/ml/metrics.py 100%[===================>]   3.60K  --.-KB/s    in 0s      \n",
            "utils/ml/scaling.py 100%[===================>]   4.77K  --.-KB/s    in 0s      \n",
            "utils/ml/training.p 100%[===================>]   8.25K  --.-KB/s    in 0s      \n",
            "utils/plotting/__in 100%[===================>]   1.59K  --.-KB/s    in 0s      \n",
            "utils/plotting/font 100%[===================>]   2.53K  --.-KB/s    in 0s      \n",
            "utils/plotting/form 100%[===================>]  12.42K  --.-KB/s    in 0s      \n",
            "utils/plotting/inte 100%[===================>]  16.23K  --.-KB/s    in 0s      \n",
            "utils/plotting/plot 100%[===================>]  22.75K  --.-KB/s    in 0.001s  \n"
          ]
        }
      ],
      "source": [
        "# Download utils from GitHub\n",
        "!wget -q --show-progress https://raw.githubusercontent.com/CLDiego/uom_fse_dl_workshop/main/colab_utils.txt -O colab_utils.txt\n",
        "!wget -q --show-progress -x -nH --cut-dirs=3 -i colab_utils.txt"
      ]
    },
    {
      "cell_type": "markdown",
      "metadata": {
        "id": "tXK_3rMOZGhU"
      },
      "source": [
        "# 1. PyTorch\n",
        "***\n",
        "[PyTorch](https://pytorch.org/) is an open source machine learning and deep learning framework based on the Torch library.\n",
        "\n",
        "## Why PyTorch?\n",
        "\n",
        "PyTorch is a popular starting point for deep learning research due to its flexibility and ease of use, compared to other frameworks like TensorFlow. It is often recommended to use TensorFlow for **production-level projects**, but PyTorch is a great choice for **research and experimentation**. More explicitly, PyTorch has the following advantages:\n",
        "\n",
        "- **Dynamic computation graph**: PyTorch uses a dynamic computation graph, which means that the graph is generated on-the-fly as operations are created. This is in contrast to TensorFlow, which uses a static computation graph. The dynamic computation graph in PyTorch makes it easier to debug and understand the code.\n",
        "\n",
        "- **Pythonic**: PyTorch is designed to be Pythonic, which means that it is easy to read and write. This is in contrast to TensorFlow, which uses a more verbose syntax.\n",
        "\n",
        "- **Imperative programming**: PyTorch uses imperative programming, which means that you can write code that looks like regular Python code. This is in contrast to TensorFlow, which uses declarative programming.\n",
        "\n",
        "## Setting up the working environment\n",
        "\n",
        "We are going to use different python modules throughout this course. It is not necessary to be familiar with all of them at the moment. Some of these libraries enable us to work with data and perform numerical operations, while others are used for visualization purposes."
      ]
    },
    {
      "cell_type": "code",
      "execution_count": 2,
      "metadata": {
        "id": "1mdh-UMtZGhV",
        "outputId": "a55b3c57-581f-41b5-8ab3-973bd83a2887",
        "colab": {
          "base_uri": "https://localhost:8080/"
        }
      },
      "outputs": [
        {
          "output_type": "stream",
          "name": "stdout",
          "text": [
            "Faculty of Science and Engineering 🔬\n",
            "\u001b[95mThe University of Manchester \u001b[0m\n",
            "Invoking utils version: \u001b[92m1.1.0+cbbd35c\u001b[0m\n",
            "GPU available: True\n",
            "GPU device: Tesla T4\n"
          ]
        }
      ],
      "source": [
        "import sys\n",
        "from pathlib import Path\n",
        "\n",
        "repo_path = Path.cwd()\n",
        "if str(repo_path) not in sys.path:\n",
        "    sys.path.append(str(repo_path))\n",
        "\n",
        "import utils\n",
        "import pandas as pd\n",
        "import torch\n",
        "\n",
        "print(\"GPU available:\", torch.cuda.is_available())\n",
        "if torch.cuda.is_available():\n",
        "    print(\"GPU device:\", torch.cuda.get_device_name(0))\n",
        "else:\n",
        "    print(\"No GPU available. Please ensure you've enabled GPU in Runtime > Change runtime type\")\n",
        "\n",
        "checker = utils.core.ExerciseChecker(\"SE01\")"
      ]
    },
    {
      "cell_type": "markdown",
      "metadata": {
        "id": "mJW_SwQOZGhW"
      },
      "source": [
        "# 2. Introduction to tensors\n",
        "***\n",
        "> <img src=\"https://raw.githubusercontent.com/CLDiego/uom_fse_dl_workshop/main/figs/icons/write.svg\" width=\"20\"/> **Definition**: A tensor is a generalisation of vectors and matrices that can have an arbitrary number of dimensions. In simple terms, a tensor is a multidimensional array.\n",
        "\n",
        "Similar to arrays, tensors can have different shapes and sizes. The number of dimensions of a tensor is called its **rank**. Here are some examples of tensors:\n",
        "\n",
        "- **Scalar**: A scalar is a single number, denoted as a tensor of rank 0.\n",
        "- **Vector**: A vector is an array of numbers, denoted as a tensor of rank 1.\n",
        "- **Matrix**: A matrix is a 2D array of numbers, denoted as a tensor of rank 2.\n",
        "- **3D tensor**: A 3D tensor is a cube of numbers, denoted as a tensor of rank 3.\n",
        "- **nD tensor**: An nD tensor is a generalisation of the above examples, denoted as a tensor of rank n.\n",
        "\n",
        "<div align=\"center\">\n",
        "  <img src=\"https://raw.githubusercontent.com/CLDiego/uom_fse_dl_workshop/main/figs/tensors.png\" width=\"70%\">\n",
        "</div>\n",
        "\n",
        "The power of tensors comes in the form of their operations. Tensors can be added, multiplied, and manipulated in various ways.\n",
        "\n",
        "## 2.1 Creating tensors\n",
        "***\n",
        "To create a tensor in PyTorch, we can use the class `torch.Tensor`.\n",
        "\n",
        "> <img src=\"https://raw.githubusercontent.com/CLDiego/uom_fse_dl_workshop/main/figs/icons/docs.svg\" width=\"20\"/> **Documentation**: PyTorch is a well documented library, if you struggle with a function, you can always check the [documentation](https://pytorch.org/docs/stable/index.html) for help. You can also use the `help()` function in Python to get more information about a function or class. For example, `help(torch.Tensor)` will give you information about the `Tensor` class.\n",
        "\n",
        "***\n",
        "> <img src=\"https://raw.githubusercontent.com/CLDiego/uom_fse_dl_workshop/main/figs/icons/code.svg\" width=\"20\"/> **Snippet 1**: Creating a scalar tensor\n",
        "\n",
        "```python\n",
        "x = torch.tensor(101)\n",
        "\n",
        "# Get the type and shape of the tensor\n",
        "print(f'x: {x}, type: {type(x)}, shape: {x.shape}')\n",
        "```"
      ]
    },
    {
      "cell_type": "code",
      "execution_count": 5,
      "metadata": {
        "id": "Cf4SPxLAZGhY",
        "outputId": "77727660-1bb0-4ab0-be73-3ae19f53d0b9",
        "colab": {
          "base_uri": "https://localhost:8080/"
        }
      },
      "outputs": [
        {
          "output_type": "stream",
          "name": "stdout",
          "text": [
            "--------------------------------------------------------------------------------\n",
            "✅ scalar_tensor is correct!\n",
            "✅ float_tensor is correct!\n",
            "\n",
            "🎉 Excellent! All parts are correct!\n"
          ]
        }
      ],
      "source": [
        "# Exercise 1: Creating Your First Tensor 🎯\n",
        "# Try to create:\n",
        "# 1. A scalar tensor with value 42\n",
        "# 2. A float tensor with value 3.14\n",
        "\n",
        "# Your code here:\n",
        "scalar_tensor =  torch.tensor(42) # Add your code\n",
        "float_tensor = torch.tensor(3.14) # Add your code\n",
        "\n",
        "\n",
        "# ✅ Check your answer\n",
        "answer = {\n",
        "    'scalar_tensor': scalar_tensor,\n",
        "    'float_tensor': float_tensor\n",
        "}\n",
        "checker.check_exercise(1, answer)"
      ]
    },
    {
      "cell_type": "code",
      "execution_count": 6,
      "metadata": {
        "id": "Fay8YxhDZGhZ",
        "outputId": "0afe069e-2bc2-478d-843e-45299f6113a9",
        "colab": {
          "base_uri": "https://localhost:8080/"
        }
      },
      "outputs": [
        {
          "output_type": "stream",
          "name": "stdout",
          "text": [
            "Scalar tensor: 42, type: <class 'torch.Tensor'>, shape: torch.Size([]), dtype: torch.int64\n",
            "Float tensor: 3.140000104904175, type: <class 'torch.Tensor'>, shape: torch.Size([]), dtype: torch.float32\n"
          ]
        }
      ],
      "source": [
        "# Check the characteristics of the tensors you created\n",
        "print(f\"Scalar tensor: {scalar_tensor}, type: {type(scalar_tensor)}, shape: {scalar_tensor.shape}, dtype: {scalar_tensor.dtype}\")\n",
        "print(f\"Float tensor: {float_tensor}, type: {type(float_tensor)}, shape: {float_tensor.shape}, dtype: {float_tensor.dtype}\")"
      ]
    },
    {
      "cell_type": "markdown",
      "metadata": {
        "id": "i19kglWwZGhZ"
      },
      "source": [
        "In the above example, we created a scalar tensor with a single element. Looking at its attributes, we can see that the tensor has a shape of `torch.Size([])`, which means that it has no dimensions. We can also see that the tensor has a data type of `torch.int64`, which means that it is an integer tensor.\n",
        "\n",
        "\n",
        "> <img src=\"https://raw.githubusercontent.com/CLDiego/uom_fse_dl_workshop/main/figs/icons/reminder.svg\" width=\"20\"/> **Note**: The data type of a tensor is determined by the data type of the elements that it contains. It is important to be aware of the data type of a tensor, as it can affect the results of operations that are performed on it. Good practice is to always specify the data type of a tensor when creating it.\n",
        "\n",
        "\n",
        "As we can see our single element is now stored in a type of container, which means that we can perform operations on it but not directly on the element itself. To access the element, we can use the method `item()`."
      ]
    },
    {
      "cell_type": "code",
      "execution_count": 7,
      "metadata": {
        "id": "msYoW11ZZGha",
        "outputId": "f365c05c-d7b0-4fb0-9e2b-8d7e122f390a",
        "colab": {
          "base_uri": "https://localhost:8080/"
        }
      },
      "outputs": [
        {
          "output_type": "execute_result",
          "data": {
            "text/plain": [
              "(tensor(42), 42)"
            ]
          },
          "metadata": {},
          "execution_count": 7
        }
      ],
      "source": [
        "scalar_tensor, scalar_tensor.item()"
      ]
    },
    {
      "cell_type": "markdown",
      "metadata": {
        "id": "CeVgUgAVZGha"
      },
      "source": [
        "We can specify the data type of a tensor by passing the `dtype` argument to the `torch.Tensor` constructor. Alternatively, we can use the 'torch.tensor.type` method to change the data type of a tensor."
      ]
    },
    {
      "cell_type": "code",
      "execution_count": 8,
      "metadata": {
        "id": "uoyyB9icZGhb",
        "outputId": "3758facf-ea7c-4759-84dd-3e0158061c32",
        "colab": {
          "base_uri": "https://localhost:8080/"
        }
      },
      "outputs": [
        {
          "output_type": "stream",
          "name": "stdout",
          "text": [
            "tensor(42.)\n",
            "tensor(42)\n",
            "tensor(42, dtype=torch.int32)\n",
            "tensor(42., dtype=torch.float64)\n"
          ]
        }
      ],
      "source": [
        "# Create a scalar tensor with a specific data type\n",
        "scalar_tensor = torch.tensor(42, dtype=torch.float32)\n",
        "print(scalar_tensor)\n",
        "\n",
        "# Change the data type of a tensor\n",
        "scalar_tensor = scalar_tensor.type(torch.int64)\n",
        "print(scalar_tensor)\n",
        "\n",
        "# Another way to change the data type of a tensor\n",
        "scalar_tensor = scalar_tensor.int()\n",
        "print(scalar_tensor)\n",
        "\n",
        "# # Not recommended as it can be confusing\n",
        "# with the .to() method that is used to move tensors\n",
        "# to different devices\n",
        "scalar_tensor = scalar_tensor.to(torch.float64)\n",
        "print(scalar_tensor)\n"
      ]
    },
    {
      "cell_type": "markdown",
      "metadata": {
        "id": "mxGfjMQEZGhb"
      },
      "source": [
        "## 2.2 Initializing tensors\n",
        "***\n",
        "\n",
        "PyTorch provides multiple ways to initialize tensors. Sometimes, we want to create a tensor with specific values, while other times we want to create a tensor with random values. PyTorch provides several functions for creating tensors with different initializations. Below is a table summarizing some of the most commonly used tensor creation functions in PyTorch.\n",
        "\n",
        "| Function | Description | Example | Output Shape |\n",
        "|----------|-------------|---------|--------------|\n",
        "| `torch.tensor()` | Creates tensor from data | `torch.tensor([1, 2, 3])` | `(3,)` |\n",
        "| `torch.zeros()` | Creates tensor of zeros | `torch.zeros(2, 3)` | `(2, 3)` |\n",
        "| `torch.ones()` | Creates tensor of ones | `torch.ones(2, 3)` | `(2, 3)` |\n",
        "| `torch.rand()` | Uniform random [0, 1] | `torch.rand(2, 3)` | `(2, 3)` |\n",
        "| `torch.randn()` | Normal distribution μ=0, σ=1 | `torch.randn(2, 3)` | `(2, 3)` |\n",
        "| `torch.arange()` | Integer sequence | `torch.arange(5)` | `(5,)` |\n",
        "| `torch.linspace()` | Evenly spaced sequence | `torch.linspace(0, 1, 5)` | `(5,)` |\n",
        "| `torch.eye()` | Identity matrix | `torch.eye(3)` | `(3, 3)` |\n",
        "| `torch.randint()` | Random integers | `torch.randint(0, 10, (2, 3))` | `(2, 3)` |"
      ]
    },
    {
      "cell_type": "code",
      "execution_count": 9,
      "metadata": {
        "id": "824FI-BVZGhb",
        "outputId": "a9c3962e-91f5-4d29-a08c-a4bf8538444c",
        "colab": {
          "base_uri": "https://localhost:8080/"
        }
      },
      "outputs": [
        {
          "output_type": "stream",
          "name": "stdout",
          "text": [
            "--------------------------------------------------------------------------------\n",
            "✅ random_tensor is correct!\n",
            "✅ identity_matrix is correct!\n",
            "✅ spaced_tensor is correct!\n",
            "✅ zero_tensor is correct!\n",
            "\n",
            "🎉 Excellent! All parts are correct!\n"
          ]
        }
      ],
      "source": [
        "# Exercise 2: Tensor Initialization 🎯\n",
        "# Create the following tensors:\n",
        "# 1. A 3x3 tensor of random integers between 1-10\n",
        "# 2. A 3x3 identity matrix\n",
        "# 3. A tensor containing evenly spaced numbers from 0 to 1 (5 numbers)\n",
        "# 4. A 2x3 tensor of zeros\n",
        "\n",
        "# Your code here:\n",
        "random_tensor = torch.randint(1,10,(3,3)) # Add your code\n",
        "identity_matrix =  torch.eye(3)# Add your code\n",
        "spaced_tensor =  torch.linspace(0,1,5)# Add your code\n",
        "zero_tensor =  torch.zeros(2,3)# Add your code\n",
        "\n",
        "# ✅ Check your answer\n",
        "answer = {\n",
        "    'random_tensor': random_tensor,\n",
        "    'identity_matrix': identity_matrix,\n",
        "    'spaced_tensor': spaced_tensor,\n",
        "    'zero_tensor': zero_tensor\n",
        "}\n",
        "checker.check_exercise('2', answer)"
      ]
    },
    {
      "cell_type": "markdown",
      "metadata": {
        "id": "DLuH2oJHZGhd"
      },
      "source": [
        "# 3. Indexing tensors\n",
        "***\n",
        "Indexing tensors is similar to indexing arrays in Python. We can use square brackets `[]` to access elements in a tensor. This is useful for extracting specific elements or slices of a tensor. Below is a table summarizing the different ways to index tensors in PyTorch.\n",
        "\n",
        "> <img src=\"https://raw.githubusercontent.com/CLDiego/uom_fse_dl_workshop/main/figs/icons/reminder.svg\" width=\"20\"/>  **Tips**:\n",
        "> - Use `:` to select all elements in a dimension\n",
        "> - Use negative indices to count from the end: -1 is last element\n",
        "> - Ellipsis (`...`) represents multiple full slices\n",
        "> - Step values can be negative for reverse order\n",
        "> - Boolean masks must match tensor dimensions\n",
        "\n",
        "| Method | Syntax | Description | Example | Result |\n",
        "|--------|--------|-------------|---------|---------|\n",
        "| Basic Indexing | `tensor[ix,jx]` | Access single element | `t[0,1]` | Element at row 0, col 1 |\n",
        "| Slicing | `tensor[start:end]` | Extract subset | `t[1:3]` | Elements from index 1 to 2 |\n",
        "| Striding | `tensor[::step]` | Extract with step | `t[::2]` | Every second element |\n",
        "| Negative Indexing | `tensor[-1]` | Count from end | `t[-1]` | Last element |\n",
        "| Boolean Indexing | `tensor[mask]` | Filter with condition | `t[t > 0]` | Elements > 0 |\n",
        "| Ellipsis | `tensor[...]` | All dimensions | `t[...,0]` | All dims except last |\n",
        "| Combined | `tensor[1:3,...,::2]` | Mix methods | `t[1:3,...,0]` | Complex selection |\n",
        "\n",
        "***\n",
        "> <img src=\"https://raw.githubusercontent.com/CLDiego/uom_fse_dl_workshop/main/figs/icons/code.svg\" width=\"20\" /> **Snippet 2**: Indexing a tensor\n",
        "\n",
        "```python\n",
        "# Get corners of a matrix\n",
        "corners = tensor[...,[0,-1]]  # First and last elements of last dimension\n",
        "\n",
        "# Get last row of a matrix\n",
        "last_row = tensor[-1,...]  # Last row of all columns\n",
        "\n",
        "# Extract diagonal\n",
        "diagonal = tensor.diagonal()  # More efficient than indexing\n",
        "```"
      ]
    },
    {
      "cell_type": "code",
      "execution_count": 22,
      "metadata": {
        "id": "Em3hKjjlZGhf",
        "outputId": "21873c7a-7c07-4174-8964-983979fcc855",
        "colab": {
          "base_uri": "https://localhost:8080/"
        }
      },
      "outputs": [
        {
          "output_type": "stream",
          "name": "stdout",
          "text": [
            "Element at (2,3): 12\n",
            "Second row: tensor([5, 6, 7, 8])\n",
            "Last column: tensor([ 4,  8, 12, 16])\n",
            "Bottom right 2x2:\n",
            "tensor([[11, 12],\n",
            "        [15, 16]])\n",
            "Even elements in first row: tensor([2, 4])\n",
            "Corner elements:\n",
            "tensor([[ 1,  4],\n",
            "        [13, 16]])\n",
            "Middle block:\n",
            "tensor([[ 6,  7],\n",
            "        [10, 11]])\n",
            "--------------------------------------------------------------------------------\n",
            "✅ position_2_3 is correct!\n",
            "✅ second_row is correct!\n",
            "✅ last_column is correct!\n",
            "✅ bottom_right is correct!\n",
            "✅ even_elements is correct!\n",
            "✅ all_corners is correct!\n",
            "✅ middle_block is correct!\n",
            "\n",
            "🎉 Excellent! All parts are correct!\n"
          ]
        }
      ],
      "source": [
        "# Create a 4x4 tensor for practice\n",
        "practice_tensor = torch.tensor([\n",
        "    [1, 2, 3, 4],\n",
        "    [5, 6, 7, 8],\n",
        "    [9, 10, 11, 12],\n",
        "    [13, 14, 15, 16]\n",
        "])\n",
        "\n",
        "# Exercise 3: Advanced Tensor Indexing 🎯\n",
        "# Extract the following from practice_tensor:\n",
        "# 1. The element at position (2,3)\n",
        "# 2. The second row\n",
        "# 3. The last column\n",
        "# 4. The 2x2 submatrix in the bottom right corner\n",
        "# 5. Every even-numbered element in the first row\n",
        "# 6. All corner elements as 2x2 matrix\n",
        "# 7. The middle 2x2 block\n",
        "# 8. The last row in reverse order\n",
        "\n",
        "# Your code here:\n",
        "position_2_3 = practice_tensor[2,3]  # Element at (2,3)\n",
        "second_row = practice_tensor[1,:]    # Second row\n",
        "last_column = practice_tensor[:, -1]   # Last column\n",
        "bottom_right = practice_tensor[2:,2:]  # Bottom right 2x2\n",
        "even_elements = practice_tensor[0,1::2] # Even elements in first row\n",
        "all_corners = practice_tensor[0::3,[0,-1]]   # Corner elements\n",
        "middle_block = practice_tensor[1:3,1:3]  # Middle 2x2 block\n",
        "\n",
        "# Print results\n",
        "print(f\"Element at (2,3): {position_2_3}\")\n",
        "print(f\"Second row: {second_row}\")\n",
        "print(f\"Last column: {last_column}\")\n",
        "print(f\"Bottom right 2x2:\\n{bottom_right}\")\n",
        "print(f\"Even elements in first row: {even_elements}\")\n",
        "print(f\"Corner elements:\\n{all_corners}\")\n",
        "print(f\"Middle block:\\n{middle_block}\")\n",
        "\n",
        "\n",
        "# ✅ Check your answer\n",
        "answer = {\n",
        "    'position_2_3': position_2_3,\n",
        "    'second_row': second_row,\n",
        "    'last_column': last_column,\n",
        "    'bottom_right': bottom_right,\n",
        "    'even_elements': even_elements,\n",
        "    'all_corners': all_corners,\n",
        "    'middle_block': middle_block,\n",
        "}\n",
        "checker.check_exercise(3, answer)"
      ]
    },
    {
      "cell_type": "markdown",
      "metadata": {
        "id": "VGyV8EutZGhg"
      },
      "source": [
        "# 4. Tensor operations\n",
        "***\n",
        "\n",
        "PyTorch allows us to manipulate tensors in different ways. Since PyTorch is built on top of NumPy, the same operations can be accessed through the `torch` module or alternatively through the `numpy` module. Due to the pythonic nature of PyTorch, we can also use the same operations as we would in Python.\n",
        "\n",
        "### Basic Operations Cheatsheet\n",
        "\n",
        "| Category | Description | Methods | PyTorch Method | Example |\n",
        "|----------|-------------|----------|----------------|---------|\n",
        "| Arithmetic | Basic math operations | +, -, *, /, ** | `add(), sub(), mul(), div(), pow(), sqrt()` | `a + b` |\n",
        "| Comparison | Compare values | >, <, ==, != | `gt(), lt(), eq(), ne()` | `a > 0` |\n",
        "| Reduction | Reduce dimensions | sum(), mean(), max() | `sum(), mean(), max()` | `a.sum()` |\n",
        "| Statistical | Statistical operations | std(), var() | `std(), var()` | `a.mean()` |\n",
        "\n",
        "***\n",
        "> <img src=\"https://raw.githubusercontent.com/CLDiego/uom_fse_dl_workshop/main/figs/icons/reminder.svg\" width=\"20\"/> **Tips**:\n",
        "> 1. **Type Matching**: Ensure tensors have compatible data types\n",
        "> 2. **Shape Broadcasting**: Understand how PyTorch broadcasts shapes\n",
        "> 3. **GPU Memory**: Be careful with large tensor operations on GPU\n",
        "> 4. **Inplace Operations**: Use `_` suffix for inplace operations\n",
        "\n",
        "***\n",
        "> <img src=\"https://raw.githubusercontent.com/CLDiego/uom_fse_dl_workshop/main/figs/icons/list.svg\" width=\"20\"/> **Common Mistakes to Avoid**:\n",
        "> - Mixing tensor types without conversion\n",
        "> - Forgetting to handle device placement (CPU/GPU)\n",
        "> - Not checking tensor shapes before operations\n",
        "> - Unnecessary copying of large tensors\n",
        "\n",
        "***\n",
        "> <img src=\"https://raw.githubusercontent.com/CLDiego/uom_fse_dl_workshop/main/figs/icons/code.svg\" width=\"20\"/> **Snippet 3**: Inplace operations\n",
        "\n",
        "```python\n",
        "# Instead of: x = x + 1\n",
        "x.add_(1)  # Inplace addition\n",
        "y.add_(x)  # Inplace addition with another tensor\n",
        "```"
      ]
    },
    {
      "cell_type": "code",
      "execution_count": 27,
      "metadata": {
        "id": "TUzHHX2XZGhg",
        "outputId": "b68fbf97-60ff-4a86-d9c2-7d9551ff43f2",
        "colab": {
          "base_uri": "https://localhost:8080/"
        }
      },
      "outputs": [
        {
          "output_type": "stream",
          "name": "stdout",
          "text": [
            "--------------------------------------------------------------------------------\n",
            "✅ addition is correct!\n",
            "✅ multiplication is correct!\n",
            "✅ matrix_mult is correct!\n",
            "✅ sqrt_a is correct!\n",
            "\n",
            "🎉 Excellent! All parts are correct!\n"
          ]
        }
      ],
      "source": [
        "# Exercise 4: Basic Operations 🎯\n",
        "# Create two 2x2 matrices:\n",
        "a = torch.tensor([[1, 2], [3, 4]])\n",
        "b = torch.tensor([[5, 6], [7, 8]])\n",
        "\n",
        "# Perform the following operations:\n",
        "# 1. Matrix addition (a + b)\n",
        "# 2. Element-wise multiplication (a * b)\n",
        "# 3. Matrix multiplication (a @ b)\n",
        "# 4. Calculate square root of matrix a\n",
        "\n",
        "# Your code here:\n",
        "addition = torch.add(a,b)   # Add your code\n",
        "multiplication = torch.mul(a,b) # Add your code\n",
        "matrix_mult = a@b # Add your code\n",
        "sqrt_a = torch.sqrt(a) # Add your code\n",
        "\n",
        "# ✅ Check your answer\n",
        "answer = {\n",
        "    'addition': addition,\n",
        "    'multiplication': multiplication,\n",
        "    'matrix_mult': matrix_mult,\n",
        "    'sqrt_a': sqrt_a\n",
        "}\n",
        "checker.check_exercise(4, answer)"
      ]
    },
    {
      "cell_type": "markdown",
      "metadata": {
        "id": "ibN36mkPZGhh"
      },
      "source": [
        "## 4.1 Matrix operations\n",
        "***\n",
        "Matrix multiplication is a common operation in algebra and is used in many machine learning algorithms. We can perform:\n",
        "\n",
        "- **Matrix multiplication**: This is the standard matrix multiplication operation, which is denoted by the `@` operator in Python. This operation is also known as the dot product.\n",
        "- **Element-wise multiplication**: This is the multiplication of two matrices of the same shape, which is denoted by the `*` operator in Python. This operation is also known as the Hadamard product.\n",
        "- **Matrix transpose**: This is the operation of flipping a matrix over its diagonal, which is denoted by the `.T` attribute in Python. This operation is also known as the matrix transpose.\n",
        "- **Matrix inverse**: This is the operation of finding the inverse of a matrix, which is denoted by the `torch.inverse()` function in Python. This operation is also known as the matrix inverse.\n",
        "\n",
        "***\n",
        "| Operation | Description | Method | Example |\n",
        "|-----------|-------------|--------|---------|\n",
        "| Matrix Multiplication | Standard matrix product | @ or matmul() | `a @ b` |\n",
        "| Transpose | Flip matrix dimensions | .T or transpose() | `a.T` |\n",
        "| Inverse | Matrix inverse | inverse() | `torch.inverse(a)` |\n",
        "| Determinant | Matrix determinant | det() | `torch.det(a)` |\n",
        "| Eigenvalues | Eigenvalues and vectors | eig() | `torch.eig(a)` |\n",
        "| Singular Value Decomposition | SVD decomposition | svd() | `torch.svd(a)` |\n",
        "| Cholesky Decomposition | Cholesky factorization | cholesky() | `torch.cholesky(a)` |\n",
        "\n",
        "***\n",
        "<div align=\"center\">\n",
        "  <img src=\"https://raw.githubusercontent.com/CLDiego/uom_fse_dl_workshop/main/figs/matrix_mul.gif\" width=\"50%\">\n",
        "</div>\n"
      ]
    },
    {
      "cell_type": "code",
      "execution_count": 28,
      "metadata": {
        "id": "HYOF7q4yZGhh",
        "outputId": "e024d69f-556c-42f8-85f8-8680177b9729",
        "colab": {
          "base_uri": "https://localhost:8080/"
        }
      },
      "outputs": [
        {
          "output_type": "stream",
          "name": "stdout",
          "text": [
            "--------------------------------------------------------------------------------\n",
            "✅ matrix_mult is correct!\n",
            "✅ transpose is correct!\n",
            "✅ determinant is correct!\n",
            "✅ inverse is correct!\n",
            "\n",
            "🎉 Excellent! All parts are correct!\n"
          ]
        }
      ],
      "source": [
        "# Exercise 5: Matrix Operations 🎯\n",
        "a = torch.tensor([[1, 2], [3, 4]], dtype=torch.float32)\n",
        "\n",
        "# Perform:\n",
        "# 1. Matrix multiplication with itself\n",
        "# 2. Matrix transpose\n",
        "# 3. Matrix determinant\n",
        "# 4. Matrix inverse\n",
        "\n",
        "matrix_mult = a@a # Add your code\n",
        "transpose =  a.T# Add your code\n",
        "determinant =  torch.det(a) # Add your code\n",
        "inverse =  torch.inverse(a) # Add your code\n",
        "\n",
        "# ✅ Check your answer\n",
        "answer = {\n",
        "    'matrix_mult': matrix_mult,\n",
        "    'transpose': transpose,\n",
        "    'determinant': determinant,\n",
        "    'inverse': inverse\n",
        "}\n",
        "checker.check_exercise(5, answer)"
      ]
    },
    {
      "cell_type": "markdown",
      "metadata": {
        "id": "EXsksCkJZGhi"
      },
      "source": [
        "## 4.2 Tensor Broadcasting\n",
        "***\n",
        "\n",
        "> <img src=\"https://raw.githubusercontent.com/CLDiego/uom_fse_dl_workshop/main/figs/icons/docs.svg\" width=\"20\"/> **Documentation**: [Broadcasting](https://numpy.org/doc/stable/user/basics.broadcasting.html) is a powerful feature of NumPy and PyTorch that allows us to perform operations on arrays of different shapes without having to explicitly reshape them.\n",
        "\n",
        "Since PyTorch is built on top of NumPy we can use its broadcasting capabilities. Broadcasting is how NumPy handles arrays with different shapes during arithmetic operations. It allows us to perform operations on arrays of different shapes without having to explicitly reshape them. This is done by automatically expanding the smaller array to match the shape of the larger array.\n",
        "\n",
        "For example, if we have a 1D array of shape `(3,)` and a 2D array of shape `(3, 2)`, we can add them together without having to reshape the 1D array. NumPy will automatically expand the 1D array to match the shape of the 2D array.\n",
        "\n",
        "***\n",
        "> <img src=\"https://raw.githubusercontent.com/CLDiego/uom_fse_dl_workshop/main/figs/icons/code.svg\" width=\"20\"/> **Snippet 4**: Broadcasting example\n",
        "\n",
        "```python\n",
        "# Create a 1D tensor of shape (3,)\n",
        "a = torch.tensor([1, 2])\n",
        "# Create a 2D tensor of shape (3, 2)\n",
        "b = torch.tensor([[1, 2], [3, 4], [5, 6]])\n",
        "# Add the two tensors together\n",
        "c = a + b  # Broadcasting occurs here\n",
        "print(c)  # Output: tensor([[ 2,  4], [ 4,  6], [6, 8]])\n",
        "```"
      ]
    },
    {
      "cell_type": "code",
      "execution_count": 29,
      "metadata": {
        "id": "8GncVu8TZGhi",
        "outputId": "a102a60f-ba23-4194-9cd8-989dec72f8b2",
        "colab": {
          "base_uri": "https://localhost:8080/"
        }
      },
      "outputs": [
        {
          "output_type": "stream",
          "name": "stdout",
          "text": [
            "Original matrix shape: torch.Size([2, 2])\n",
            "After scalar addition: torch.Size([2, 2])\n",
            "After row broadcast: torch.Size([2, 2])\n",
            "After column broadcast: torch.Size([2, 2])\n",
            "After batch scaling: torch.Size([2, 2, 2])\n",
            "--------------------------------------------------------------------------------\n",
            "✅ broadcast_add is correct!\n",
            "✅ broadcast_mult is correct!\n",
            "✅ row_add is correct!\n",
            "✅ col_mult is correct!\n",
            "✅ batch_scale is correct!\n",
            "\n",
            "🎉 Excellent! All parts are correct!\n"
          ]
        }
      ],
      "source": [
        "# Exercise 6: Broadcasting 🎯\n",
        "# Setup tensors\n",
        "matrix = torch.tensor([[1, 2], [3, 4]])\n",
        "scalar = torch.tensor([2])\n",
        "row = torch.tensor([1, 1])\n",
        "col = torch.tensor([[2], [3]])\n",
        "batch = torch.tensor([[[1, 2], [3, 4]], [[5, 6], [7, 8]]])\n",
        "\n",
        "# Perform the following broadcasts:\n",
        "# 1. Add scalar to matrix\n",
        "# 2. Multiply matrix by scalar\n",
        "# 3. Add row vector to matrix\n",
        "# 4. Multiply matrix by column vector\n",
        "# 5. Scale batch by scalar\n",
        "\n",
        "# Your code here:\n",
        "broadcast_add = scalar + matrix # Add your code\n",
        "broadcast_mult =  matrix * scalar # Add your code\n",
        "row_add =  row + matrix # Add your code\n",
        "col_mult =  matrix * col # Add your code\n",
        "batch_scale =  batch*scalar# Add your code\n",
        "\n",
        "# Print results to understand broadcasting\n",
        "print(f\"Original matrix shape: {matrix.shape}\")\n",
        "print(f\"After scalar addition: {broadcast_add.shape}\")\n",
        "print(f\"After row broadcast: {row_add.shape}\")\n",
        "print(f\"After column broadcast: {col_mult.shape}\")\n",
        "print(f\"After batch scaling: {batch_scale.shape}\")\n",
        "\n",
        "# ✅ Check your answer\n",
        "answer = {\n",
        "    'broadcast_add': broadcast_add,\n",
        "    'broadcast_mult': broadcast_mult,\n",
        "    'row_add': row_add,\n",
        "    'col_mult': col_mult,\n",
        "    'batch_scale': batch_scale\n",
        "}\n",
        "checker.check_exercise(6, answer)"
      ]
    },
    {
      "cell_type": "markdown",
      "metadata": {
        "id": "OjAJTvQwZGhi"
      },
      "source": [
        "## 4.3 Reshaping Methods\n",
        "***\n",
        "Sometimes, we need to change the shape of a tensor without changing its data. We do this in order to prepare the tensor for a specific operation or to match the shape of another tensor. PyTorch provides several methods for reshaping tensors. Below is a table summarizing some of the most commonly used reshaping methods in PyTorch.\n",
        "\n",
        "| Method | Description | Example | Note |\n",
        "|--------|-------------|---------|------|\n",
        "| `reshape()` | New shape, maybe new memory | `x.reshape(2,3)` | May copy data |\n",
        "| `view()` | New shape, same memory | `x.view(2,3)` | Must be contiguous |\n",
        "| `squeeze()` | Remove single dims | `x.squeeze()` | Removes size 1 dims |\n",
        "| `unsqueeze()` | Add single dim | `x.unsqueeze(0)` | Adds size 1 dim |\n",
        "| `expand()` | Broadcast dimensions | `x.expand(2,3)` | No data copy |\n",
        "***\n",
        "\n",
        "> <img src=\"https://raw.githubusercontent.com/CLDiego/uom_fse_dl_workshop/main/figs/icons/code.svg\" width=\"20\"/> **Snippet 5**: Reshaping a tensor\n",
        "\n",
        "```python\n",
        "# Create a 1D tensor of shape (6,)\n",
        "x = torch.tensor([1, 2, 3, 4, 5, 6])\n",
        "# Reshape to (2, 3)\n",
        "print(x.reshape(2, 3))  # Output: tensor([[1, 2, 3], [4, 5, 6]])\n",
        "```"
      ]
    },
    {
      "cell_type": "code",
      "execution_count": 32,
      "metadata": {
        "id": "T-GCHKIkZGhj",
        "outputId": "1f5f2385-d8bd-4dd6-d6fd-0a99317f64bd",
        "colab": {
          "base_uri": "https://localhost:8080/"
        }
      },
      "outputs": [
        {
          "output_type": "stream",
          "name": "stdout",
          "text": [
            "Broadcast result shape: torch.Size([3, 3])\n",
            "--------------------------------------------------------------------------------\n",
            "✅ reshaped is correct!\n",
            "✅ expanded is correct!\n",
            "✅ broadcast_ready is correct!\n",
            "\n",
            "🎉 Excellent! All parts are correct!\n"
          ]
        }
      ],
      "source": [
        "# Exercise 7: Reshaping 🎯\n",
        "# Setup tensors\n",
        "flat = torch.tensor([1, 2, 3, 4, 5, 6])\n",
        "ones = torch.ones(1)\n",
        "vector = torch.tensor([1, 2, 3])\n",
        "\n",
        "# Perform:\n",
        "# 1. Reshape flat tensor to (3,2) matrix\n",
        "# 2. Expand ones to (3,1) matrix\n",
        "# 3. Reshape vector to be broadcastable with (3,3) matrix\n",
        "\n",
        "reshaped = flat.reshape(3,2)  # Add your code\n",
        "expanded =  ones.expand(3,1)# Add your code\n",
        "broadcast_ready =  vector.reshape(3,1) # Add your code\n",
        "\n",
        "# Verify broadcasting works\n",
        "test_matrix = torch.ones(3, 3)\n",
        "result = test_matrix * broadcast_ready\n",
        "print(f\"Broadcast result shape: {result.shape}\")\n",
        "\n",
        "# ✅ Check your answer\n",
        "answer = {\n",
        "    'reshaped': reshaped,\n",
        "    'expanded': expanded,\n",
        "    'broadcast_ready': broadcast_ready\n",
        "}\n",
        "checker.check_exercise(7, answer)"
      ]
    },
    {
      "cell_type": "markdown",
      "metadata": {
        "id": "gFT_m1PBZGhj"
      },
      "source": [
        "# 5. Automatic Differentiation (Autograd)\n",
        "***\n",
        "\n",
        "Automatic differentiation is one of the most powerful features of PyTorch. It allows us to compute gradients automatically, which is essential for training neural networks. PyTorch uses a technique called **reverse mode differentiation** to compute gradients efficiently. This technique is based on the chain rule of calculus and allows us to compute gradients for complex functions with many variables.\n",
        "\n",
        "> <img src=\"https://raw.githubusercontent.com/CLDiego/uom_fse_dl_workshop/main/figs/icons/docs.svg\" width=\"20\"/> **Documentation**: [Autograd](https://pytorch.org/docs/stable/autograd.html) is the automatic differentiation engine in PyTorch. It provides a way to compute gradients automatically for tensors with `requires_grad=True`.\n",
        "\n",
        "Take for instance the following function:\n",
        "\n",
        "$$f(x) = x^2 + 42y^2 + 3$$\n",
        "\n",
        "where $x$ and $y$ are tensors. The gradient of this function with respect to $x$ and $y$ is given by:\n",
        "\n",
        "$$\\frac{\\partial f}{\\partial x} = 2x$$\n",
        "$$\\frac{\\partial f}{\\partial y} = 84y$$\n",
        "\n",
        "using the chain rule of calculus. PyTorch allows us to compute these gradients automatically using the `backward()` method.\n",
        "\n",
        "The chain rule is a fundamental concept in calculus that allows us to compute the derivative of a composite function. It states that if we have two functions $f(x)$ and $g(x)$, then the derivative of their composition $f(g(x))$ is given by:\n",
        "\n",
        "$$\\frac{d}{dx}f(g(x)) = f'(g(x)) \\cdot g'(x)$$\n",
        "\n",
        "where $f'(g(x))$ is the derivative of $f$ with respect to $g$, and $g'(x)$ is the derivative of $g$ with respect to $x$. This means that we can compute the derivative of a composite function by computing the derivatives of its constituent functions and multiplying them together.\n",
        "\n",
        "## 5.1 Autograd Concepts\n",
        "***\n",
        "\n",
        "In PyTorch, the autograd engine keeps track of all operations performed on tensors with `requires_grad=True`. It builds a computation graph dynamically as operations are performed. This graph is used to compute gradients when we call the `backward()` method.\n",
        "\n",
        "| Concept | Description | Example |\n",
        "|---------|-------------|---------|\n",
        "| `requires_grad` | Flag to track gradients | `x = torch.tensor(1.0, requires_grad=True)` |\n",
        "| `backward()` | Compute gradients | `y.backward()` |\n",
        "| `grad` | Access gradients | `x.grad` |\n",
        "***\n",
        "\n",
        "> <img src=\"https://raw.githubusercontent.com/CLDiego/uom_fse_dl_workshop/main/figs/icons/code.svg\" width=\"20\"/> **Snippet 6**: Using autograd to compute gradients\n",
        "\n",
        "```python\n",
        "# Create tensor with gradient tracking\n",
        "x = torch.tensor([1.0], requires_grad=True)\n",
        "\n",
        "# Compute function\n",
        "y = x * x\n",
        "\n",
        "# Compute gradient\n",
        "y.backward()\n",
        "\n",
        "# Access gradient\n",
        "x.grad  # Should be 2.0\n",
        "```"
      ]
    },
    {
      "cell_type": "code",
      "execution_count": 36,
      "metadata": {
        "id": "NZAosq-IZGhj",
        "outputId": "f7e6287c-7bd6-4fe1-ceeb-f873004e2fa8",
        "colab": {
          "base_uri": "https://localhost:8080/"
        }
      },
      "outputs": [
        {
          "output_type": "stream",
          "name": "stdout",
          "text": [
            "Gradient at x=2: tensor([39.])\n",
            "tensor([39.])\n",
            "--------------------------------------------------------------------------------\n",
            "✅ grad_value is correct!\n",
            "✅ requires_grad is correct!\n",
            "\n",
            "🎉 Excellent! All parts are correct!\n"
          ]
        }
      ],
      "source": [
        "# Exercise 8: Autograd 🎯\n",
        "x = torch.tensor([2.0], requires_grad=True)\n",
        "\n",
        "# Compute y = 3x^3 + 2x^2 - 5x + 1\n",
        "# Derivative at x=2 should be 3(3x^2) + 2(2x) - 5 = 3(12) + 2(4) - 5 = 36 + 8 - 5 = 39\n",
        "\n",
        "y =  3*x**3 + 2*x**2 - 5*x + 1 # Add your code\n",
        "\n",
        "# Compute the gradient\n",
        "# Add your code\n",
        "\n",
        "y.backward()\n",
        "\n",
        "x.grad\n",
        "\n",
        "gradient = x.grad\n",
        "\n",
        "# Print the gradient\n",
        "print(f\"Gradient at x=2: {x.grad}\")\n",
        "print(gradient)\n",
        "# ✅ Check your answer\n",
        "answer = {\n",
        "    'grad_value': x.grad,\n",
        "    'requires_grad': x.requires_grad\n",
        "}\n",
        "checker.check_exercise(8, answer)"
      ]
    },
    {
      "cell_type": "markdown",
      "metadata": {
        "id": "gFIRqVSIZGhj"
      },
      "source": [
        "# 6. Data to tensors\n",
        "***\n",
        "As mentioned before, PyTorch inherent pythonic nature allows us to easily convert existing data structures to tensors. Thus, we can use different data science libraries to load data and convert it to tensors. We are going to use the `pandas` library to load data from CSV files and convert it to tensors.\n",
        "\n",
        "> <img src=\"https://raw.githubusercontent.com/CLDiego/uom_fse_dl_workshop/main/figs/icons/docs.svg\" width=\"20\" /> **Documentation**: [Pandas](https://pandas.pydata.org/) is a powerful data analysis and manipulation library for Python. It provides data structures and functions needed to work with structured data.\n",
        "\n",
        "First, let's download the data. We will be using the [ARKOMA dataset](https://www.sciencedirect.com/science/article/pii/S2352340923007989). We will explore the dataset in the next section. For now, we will just download it and load it into a pandas dataframe.\n",
        "\n"
      ]
    },
    {
      "cell_type": "code",
      "execution_count": 37,
      "metadata": {
        "id": "T0DwHSoCZGhk",
        "outputId": "08690087-91cb-4b39-9501-691c9761bec6",
        "colab": {
          "base_uri": "https://localhost:8080/"
        }
      },
      "outputs": [
        {
          "output_type": "stream",
          "name": "stdout",
          "text": [
            "Downloading:\n",
            "ARKOMA: The Dataset to Build Neural Networks-Based Inverse Kinematics for NAO Robot Arms\n",
            "> Authors: Arif Nugroho, Eko Mulyanto Yuniarno, Mauridhi Hery Purnomo\n",
            "> Year: 2020\n",
            "> Website: https://www.sciencedirect.com/science/article/pii/S2352340923007989\n",
            "\n"
          ]
        },
        {
          "output_type": "stream",
          "name": "stderr",
          "text": [
            "Downloading brg4dz8nbb-1.zip: 100%|██████████| 658k/658k [00:00<00:00, 1.39MiB/s]\n",
            "Extracting brg4dz8nbb-1.zip: 100%|██████████| 1/1 [00:00<00:00, 364.56it/s]\n"
          ]
        },
        {
          "output_type": "stream",
          "name": "stdout",
          "text": [
            "Found nested archive: Dataset on NAO Robot Arms.zip\n"
          ]
        },
        {
          "output_type": "stream",
          "name": "stderr",
          "text": [
            "Extracting Dataset on NAO Robot Arms.zip: 100%|██████████| 15/15 [00:00<00:00, 1128.86it/s]\n"
          ]
        }
      ],
      "source": [
        "data_path = Path(Path.cwd(), 'datasets')\n",
        "dataset_path = utils.data.download_dataset('ARKOMA',\n",
        "                                   dest_path=data_path,\n",
        "                                   extract=True)\n",
        "\n",
        "dataset_path = dataset_path / 'Left Arm Dataset' / 'LTrain_x.csv'"
      ]
    },
    {
      "cell_type": "markdown",
      "metadata": {
        "id": "XWAl5U4VZGhk"
      },
      "source": [
        "## 6.1 Loading data with pandas\n",
        "***\n",
        "DataFrames in pandas are similar to tables in SQL or Excel. They are two-dimensional data structures that can hold different types of data. DataFrames have rows and columns, where each column can have a different data type. We can use the `pandas` library to load data from CSV files and convert it to DataFrames.\n"
      ]
    },
    {
      "cell_type": "code",
      "execution_count": 38,
      "metadata": {
        "id": "L3_5R2XrZGhl",
        "outputId": "f8e625aa-d736-451e-b2aa-7384316404f3",
        "colab": {
          "base_uri": "https://localhost:8080/",
          "height": 238
        }
      },
      "outputs": [
        {
          "output_type": "execute_result",
          "data": {
            "text/plain": [
              "     count        mean         std     min       25%      50%       75%  \\\n",
              "Px  6000.0   98.928583   76.226124 -149.87   45.2975  116.345  161.7500   \n",
              "Py  6000.0  179.584893   52.808400  -30.44  145.8625  180.810  213.7625   \n",
              "Pz  6000.0   88.939072  124.252501 -117.30  -24.6200   74.065  206.2900   \n",
              "Rx  6000.0   -4.468263   46.874867 -179.42  -32.7000   -0.910   26.7625   \n",
              "Ry  6000.0   -1.739148   55.525642 -171.43  -42.1325   -0.305   38.6725   \n",
              "Rz  6000.0    4.639302   32.807616 -157.10  -13.2125    4.635   23.5825   \n",
              "\n",
              "       max  \n",
              "Px  218.63  \n",
              "Py  315.66  \n",
              "Pz  318.99  \n",
              "Rx  159.17  \n",
              "Ry  166.35  \n",
              "Rz  153.66  "
            ],
            "text/html": [
              "\n",
              "  <div id=\"df-cb9a2048-7283-4c9b-9703-6f03e791344c\" class=\"colab-df-container\">\n",
              "    <div>\n",
              "<style scoped>\n",
              "    .dataframe tbody tr th:only-of-type {\n",
              "        vertical-align: middle;\n",
              "    }\n",
              "\n",
              "    .dataframe tbody tr th {\n",
              "        vertical-align: top;\n",
              "    }\n",
              "\n",
              "    .dataframe thead th {\n",
              "        text-align: right;\n",
              "    }\n",
              "</style>\n",
              "<table border=\"1\" class=\"dataframe\">\n",
              "  <thead>\n",
              "    <tr style=\"text-align: right;\">\n",
              "      <th></th>\n",
              "      <th>count</th>\n",
              "      <th>mean</th>\n",
              "      <th>std</th>\n",
              "      <th>min</th>\n",
              "      <th>25%</th>\n",
              "      <th>50%</th>\n",
              "      <th>75%</th>\n",
              "      <th>max</th>\n",
              "    </tr>\n",
              "  </thead>\n",
              "  <tbody>\n",
              "    <tr>\n",
              "      <th>Px</th>\n",
              "      <td>6000.0</td>\n",
              "      <td>98.928583</td>\n",
              "      <td>76.226124</td>\n",
              "      <td>-149.87</td>\n",
              "      <td>45.2975</td>\n",
              "      <td>116.345</td>\n",
              "      <td>161.7500</td>\n",
              "      <td>218.63</td>\n",
              "    </tr>\n",
              "    <tr>\n",
              "      <th>Py</th>\n",
              "      <td>6000.0</td>\n",
              "      <td>179.584893</td>\n",
              "      <td>52.808400</td>\n",
              "      <td>-30.44</td>\n",
              "      <td>145.8625</td>\n",
              "      <td>180.810</td>\n",
              "      <td>213.7625</td>\n",
              "      <td>315.66</td>\n",
              "    </tr>\n",
              "    <tr>\n",
              "      <th>Pz</th>\n",
              "      <td>6000.0</td>\n",
              "      <td>88.939072</td>\n",
              "      <td>124.252501</td>\n",
              "      <td>-117.30</td>\n",
              "      <td>-24.6200</td>\n",
              "      <td>74.065</td>\n",
              "      <td>206.2900</td>\n",
              "      <td>318.99</td>\n",
              "    </tr>\n",
              "    <tr>\n",
              "      <th>Rx</th>\n",
              "      <td>6000.0</td>\n",
              "      <td>-4.468263</td>\n",
              "      <td>46.874867</td>\n",
              "      <td>-179.42</td>\n",
              "      <td>-32.7000</td>\n",
              "      <td>-0.910</td>\n",
              "      <td>26.7625</td>\n",
              "      <td>159.17</td>\n",
              "    </tr>\n",
              "    <tr>\n",
              "      <th>Ry</th>\n",
              "      <td>6000.0</td>\n",
              "      <td>-1.739148</td>\n",
              "      <td>55.525642</td>\n",
              "      <td>-171.43</td>\n",
              "      <td>-42.1325</td>\n",
              "      <td>-0.305</td>\n",
              "      <td>38.6725</td>\n",
              "      <td>166.35</td>\n",
              "    </tr>\n",
              "    <tr>\n",
              "      <th>Rz</th>\n",
              "      <td>6000.0</td>\n",
              "      <td>4.639302</td>\n",
              "      <td>32.807616</td>\n",
              "      <td>-157.10</td>\n",
              "      <td>-13.2125</td>\n",
              "      <td>4.635</td>\n",
              "      <td>23.5825</td>\n",
              "      <td>153.66</td>\n",
              "    </tr>\n",
              "  </tbody>\n",
              "</table>\n",
              "</div>\n",
              "    <div class=\"colab-df-buttons\">\n",
              "\n",
              "  <div class=\"colab-df-container\">\n",
              "    <button class=\"colab-df-convert\" onclick=\"convertToInteractive('df-cb9a2048-7283-4c9b-9703-6f03e791344c')\"\n",
              "            title=\"Convert this dataframe to an interactive table.\"\n",
              "            style=\"display:none;\">\n",
              "\n",
              "  <svg xmlns=\"http://www.w3.org/2000/svg\" height=\"24px\" viewBox=\"0 -960 960 960\">\n",
              "    <path d=\"M120-120v-720h720v720H120Zm60-500h600v-160H180v160Zm220 220h160v-160H400v160Zm0 220h160v-160H400v160ZM180-400h160v-160H180v160Zm440 0h160v-160H620v160ZM180-180h160v-160H180v160Zm440 0h160v-160H620v160Z\"/>\n",
              "  </svg>\n",
              "    </button>\n",
              "\n",
              "  <style>\n",
              "    .colab-df-container {\n",
              "      display:flex;\n",
              "      gap: 12px;\n",
              "    }\n",
              "\n",
              "    .colab-df-convert {\n",
              "      background-color: #E8F0FE;\n",
              "      border: none;\n",
              "      border-radius: 50%;\n",
              "      cursor: pointer;\n",
              "      display: none;\n",
              "      fill: #1967D2;\n",
              "      height: 32px;\n",
              "      padding: 0 0 0 0;\n",
              "      width: 32px;\n",
              "    }\n",
              "\n",
              "    .colab-df-convert:hover {\n",
              "      background-color: #E2EBFA;\n",
              "      box-shadow: 0px 1px 2px rgba(60, 64, 67, 0.3), 0px 1px 3px 1px rgba(60, 64, 67, 0.15);\n",
              "      fill: #174EA6;\n",
              "    }\n",
              "\n",
              "    .colab-df-buttons div {\n",
              "      margin-bottom: 4px;\n",
              "    }\n",
              "\n",
              "    [theme=dark] .colab-df-convert {\n",
              "      background-color: #3B4455;\n",
              "      fill: #D2E3FC;\n",
              "    }\n",
              "\n",
              "    [theme=dark] .colab-df-convert:hover {\n",
              "      background-color: #434B5C;\n",
              "      box-shadow: 0px 1px 3px 1px rgba(0, 0, 0, 0.15);\n",
              "      filter: drop-shadow(0px 1px 2px rgba(0, 0, 0, 0.3));\n",
              "      fill: #FFFFFF;\n",
              "    }\n",
              "  </style>\n",
              "\n",
              "    <script>\n",
              "      const buttonEl =\n",
              "        document.querySelector('#df-cb9a2048-7283-4c9b-9703-6f03e791344c button.colab-df-convert');\n",
              "      buttonEl.style.display =\n",
              "        google.colab.kernel.accessAllowed ? 'block' : 'none';\n",
              "\n",
              "      async function convertToInteractive(key) {\n",
              "        const element = document.querySelector('#df-cb9a2048-7283-4c9b-9703-6f03e791344c');\n",
              "        const dataTable =\n",
              "          await google.colab.kernel.invokeFunction('convertToInteractive',\n",
              "                                                    [key], {});\n",
              "        if (!dataTable) return;\n",
              "\n",
              "        const docLinkHtml = 'Like what you see? Visit the ' +\n",
              "          '<a target=\"_blank\" href=https://colab.research.google.com/notebooks/data_table.ipynb>data table notebook</a>'\n",
              "          + ' to learn more about interactive tables.';\n",
              "        element.innerHTML = '';\n",
              "        dataTable['output_type'] = 'display_data';\n",
              "        await google.colab.output.renderOutput(dataTable, element);\n",
              "        const docLink = document.createElement('div');\n",
              "        docLink.innerHTML = docLinkHtml;\n",
              "        element.appendChild(docLink);\n",
              "      }\n",
              "    </script>\n",
              "  </div>\n",
              "\n",
              "\n",
              "    <div id=\"df-07931f3b-c943-426f-8032-99911c04c844\">\n",
              "      <button class=\"colab-df-quickchart\" onclick=\"quickchart('df-07931f3b-c943-426f-8032-99911c04c844')\"\n",
              "                title=\"Suggest charts\"\n",
              "                style=\"display:none;\">\n",
              "\n",
              "<svg xmlns=\"http://www.w3.org/2000/svg\" height=\"24px\"viewBox=\"0 0 24 24\"\n",
              "     width=\"24px\">\n",
              "    <g>\n",
              "        <path d=\"M19 3H5c-1.1 0-2 .9-2 2v14c0 1.1.9 2 2 2h14c1.1 0 2-.9 2-2V5c0-1.1-.9-2-2-2zM9 17H7v-7h2v7zm4 0h-2V7h2v10zm4 0h-2v-4h2v4z\"/>\n",
              "    </g>\n",
              "</svg>\n",
              "      </button>\n",
              "\n",
              "<style>\n",
              "  .colab-df-quickchart {\n",
              "      --bg-color: #E8F0FE;\n",
              "      --fill-color: #1967D2;\n",
              "      --hover-bg-color: #E2EBFA;\n",
              "      --hover-fill-color: #174EA6;\n",
              "      --disabled-fill-color: #AAA;\n",
              "      --disabled-bg-color: #DDD;\n",
              "  }\n",
              "\n",
              "  [theme=dark] .colab-df-quickchart {\n",
              "      --bg-color: #3B4455;\n",
              "      --fill-color: #D2E3FC;\n",
              "      --hover-bg-color: #434B5C;\n",
              "      --hover-fill-color: #FFFFFF;\n",
              "      --disabled-bg-color: #3B4455;\n",
              "      --disabled-fill-color: #666;\n",
              "  }\n",
              "\n",
              "  .colab-df-quickchart {\n",
              "    background-color: var(--bg-color);\n",
              "    border: none;\n",
              "    border-radius: 50%;\n",
              "    cursor: pointer;\n",
              "    display: none;\n",
              "    fill: var(--fill-color);\n",
              "    height: 32px;\n",
              "    padding: 0;\n",
              "    width: 32px;\n",
              "  }\n",
              "\n",
              "  .colab-df-quickchart:hover {\n",
              "    background-color: var(--hover-bg-color);\n",
              "    box-shadow: 0 1px 2px rgba(60, 64, 67, 0.3), 0 1px 3px 1px rgba(60, 64, 67, 0.15);\n",
              "    fill: var(--button-hover-fill-color);\n",
              "  }\n",
              "\n",
              "  .colab-df-quickchart-complete:disabled,\n",
              "  .colab-df-quickchart-complete:disabled:hover {\n",
              "    background-color: var(--disabled-bg-color);\n",
              "    fill: var(--disabled-fill-color);\n",
              "    box-shadow: none;\n",
              "  }\n",
              "\n",
              "  .colab-df-spinner {\n",
              "    border: 2px solid var(--fill-color);\n",
              "    border-color: transparent;\n",
              "    border-bottom-color: var(--fill-color);\n",
              "    animation:\n",
              "      spin 1s steps(1) infinite;\n",
              "  }\n",
              "\n",
              "  @keyframes spin {\n",
              "    0% {\n",
              "      border-color: transparent;\n",
              "      border-bottom-color: var(--fill-color);\n",
              "      border-left-color: var(--fill-color);\n",
              "    }\n",
              "    20% {\n",
              "      border-color: transparent;\n",
              "      border-left-color: var(--fill-color);\n",
              "      border-top-color: var(--fill-color);\n",
              "    }\n",
              "    30% {\n",
              "      border-color: transparent;\n",
              "      border-left-color: var(--fill-color);\n",
              "      border-top-color: var(--fill-color);\n",
              "      border-right-color: var(--fill-color);\n",
              "    }\n",
              "    40% {\n",
              "      border-color: transparent;\n",
              "      border-right-color: var(--fill-color);\n",
              "      border-top-color: var(--fill-color);\n",
              "    }\n",
              "    60% {\n",
              "      border-color: transparent;\n",
              "      border-right-color: var(--fill-color);\n",
              "    }\n",
              "    80% {\n",
              "      border-color: transparent;\n",
              "      border-right-color: var(--fill-color);\n",
              "      border-bottom-color: var(--fill-color);\n",
              "    }\n",
              "    90% {\n",
              "      border-color: transparent;\n",
              "      border-bottom-color: var(--fill-color);\n",
              "    }\n",
              "  }\n",
              "</style>\n",
              "\n",
              "      <script>\n",
              "        async function quickchart(key) {\n",
              "          const quickchartButtonEl =\n",
              "            document.querySelector('#' + key + ' button');\n",
              "          quickchartButtonEl.disabled = true;  // To prevent multiple clicks.\n",
              "          quickchartButtonEl.classList.add('colab-df-spinner');\n",
              "          try {\n",
              "            const charts = await google.colab.kernel.invokeFunction(\n",
              "                'suggestCharts', [key], {});\n",
              "          } catch (error) {\n",
              "            console.error('Error during call to suggestCharts:', error);\n",
              "          }\n",
              "          quickchartButtonEl.classList.remove('colab-df-spinner');\n",
              "          quickchartButtonEl.classList.add('colab-df-quickchart-complete');\n",
              "        }\n",
              "        (() => {\n",
              "          let quickchartButtonEl =\n",
              "            document.querySelector('#df-07931f3b-c943-426f-8032-99911c04c844 button');\n",
              "          quickchartButtonEl.style.display =\n",
              "            google.colab.kernel.accessAllowed ? 'block' : 'none';\n",
              "        })();\n",
              "      </script>\n",
              "    </div>\n",
              "\n",
              "    </div>\n",
              "  </div>\n"
            ],
            "application/vnd.google.colaboratory.intrinsic+json": {
              "type": "dataframe",
              "summary": "{\n  \"name\": \"df\",\n  \"rows\": 6,\n  \"fields\": [\n    {\n      \"column\": \"count\",\n      \"properties\": {\n        \"dtype\": \"number\",\n        \"std\": 0.0,\n        \"min\": 6000.0,\n        \"max\": 6000.0,\n        \"num_unique_values\": 1,\n        \"samples\": [\n          6000.0\n        ],\n        \"semantic_type\": \"\",\n        \"description\": \"\"\n      }\n    },\n    {\n      \"column\": \"mean\",\n      \"properties\": {\n        \"dtype\": \"number\",\n        \"std\": 74.40479341345242,\n        \"min\": -4.468263333333334,\n        \"max\": 179.5848933333333,\n        \"num_unique_values\": 6,\n        \"samples\": [\n          98.92858333333334\n        ],\n        \"semantic_type\": \"\",\n        \"description\": \"\"\n      }\n    },\n    {\n      \"column\": \"std\",\n      \"properties\": {\n        \"dtype\": \"number\",\n        \"std\": 32.372136048708946,\n        \"min\": 32.8076158638831,\n        \"max\": 124.25250149920375,\n        \"num_unique_values\": 6,\n        \"samples\": [\n          76.22612426653026\n        ],\n        \"semantic_type\": \"\",\n        \"description\": \"\"\n      }\n    },\n    {\n      \"column\": \"min\",\n      \"properties\": {\n        \"dtype\": \"number\",\n        \"std\": 55.23152396955927,\n        \"min\": -179.42,\n        \"max\": -30.44,\n        \"num_unique_values\": 6,\n        \"samples\": [\n          -149.87\n        ],\n        \"semantic_type\": \"\",\n        \"description\": \"\"\n      }\n    },\n    {\n      \"column\": \"25%\",\n      \"properties\": {\n        \"dtype\": \"number\",\n        \"std\": 72.00829631021692,\n        \"min\": -42.1325,\n        \"max\": 145.8625,\n        \"num_unique_values\": 6,\n        \"samples\": [\n          45.2975\n        ],\n        \"semantic_type\": \"\",\n        \"description\": \"\"\n      }\n    },\n    {\n      \"column\": \"50%\",\n      \"properties\": {\n        \"dtype\": \"number\",\n        \"std\": 75.29133031099929,\n        \"min\": -0.91,\n        \"max\": 180.81,\n        \"num_unique_values\": 6,\n        \"samples\": [\n          116.345\n        ],\n        \"semantic_type\": \"\",\n        \"description\": \"\"\n      }\n    },\n    {\n      \"column\": \"75%\",\n      \"properties\": {\n        \"dtype\": \"number\",\n        \"std\": 91.84884202681418,\n        \"min\": 23.5825,\n        \"max\": 213.7625,\n        \"num_unique_values\": 6,\n        \"samples\": [\n          161.75\n        ],\n        \"semantic_type\": \"\",\n        \"description\": \"\"\n      }\n    },\n    {\n      \"column\": \"max\",\n      \"properties\": {\n        \"dtype\": \"number\",\n        \"std\": 77.33752560475845,\n        \"min\": 153.66,\n        \"max\": 318.99,\n        \"num_unique_values\": 6,\n        \"samples\": [\n          218.63\n        ],\n        \"semantic_type\": \"\",\n        \"description\": \"\"\n      }\n    }\n  ]\n}"
            }
          },
          "metadata": {},
          "execution_count": 38
        }
      ],
      "source": [
        "# Read the dataset\n",
        "df = pd.read_csv(dataset_path)\n",
        "\n",
        "# Display the statistics of the dataset\n",
        "df.describe().T"
      ]
    },
    {
      "cell_type": "code",
      "execution_count": 40,
      "metadata": {
        "id": "8bztDHIMZGhl",
        "outputId": "8a98e289-8e4f-4e14-e8b4-e3221cac4893",
        "colab": {
          "base_uri": "https://localhost:8080/"
        }
      },
      "outputs": [
        {
          "output_type": "execute_result",
          "data": {
            "text/plain": [
              "numpy.ndarray"
            ]
          },
          "metadata": {},
          "execution_count": 40
        }
      ],
      "source": [
        "# Get the data as a numpy array\n",
        "type(df.Px.values)"
      ]
    },
    {
      "cell_type": "markdown",
      "metadata": {
        "id": "pSZa5ec2ZGhl"
      },
      "source": [
        "To pass the data to PyTorch, we need to convert the DataFrame to a NumPy array and then to a tensor. We can do this using the `values` attribute of the DataFrame and the `torch.tensor()` function.\n",
        "***\n",
        "> <img src=\"https://raw.githubusercontent.com/CLDiego/uom_fse_dl_workshop/main/figs/icons/code.svg\" width=\"20\"/> **Snippet 7**: Creating a tensor from a DataFrame\n",
        "\n",
        "```python\n",
        "col_val = df['column_name'].values  # Get column values as NumPy array\n",
        "tensor = torch.tensor(col_val)  # Convert to tensor\n",
        "```"
      ]
    },
    {
      "cell_type": "code",
      "execution_count": 49,
      "metadata": {
        "id": "ykjeokMGZGhl",
        "outputId": "4aaeba0f-c143-47bc-9f7a-b9e15f662eb1",
        "colab": {
          "base_uri": "https://localhost:8080/"
        }
      },
      "outputs": [
        {
          "output_type": "stream",
          "name": "stdout",
          "text": [
            "<class 'numpy.ndarray'>\n",
            "px_tensor shape: torch.Size([6000])\n",
            "py_tensor shape: torch.Size([6000])\n",
            "pos_tensor shape: torch.Size([6000, 3])\n",
            "all_data shape: torch.Size([6000, 6])\n",
            "--------------------------------------------------------------------------------\n",
            "✅ px_tensor is correct!\n",
            "✅ py_tensor is correct!\n",
            "✅ pos_tensor is correct!\n",
            "✅ all_data is correct!\n",
            "\n",
            "🎉 Excellent! All parts are correct!\n"
          ]
        }
      ],
      "source": [
        "# Exercise 9: Pandas to Tensors 🎯\n",
        "# Given the DataFrame df with NAO robot arm data\n",
        "# Perform the following:\n",
        "# 1. Convert the 'Px' column to a tensor\n",
        "# 2. Convert the 'Py' column to a tensor\n",
        "# 3. Create a tensor from all position columns (Px, Py, Pz)\n",
        "# 4. Create a tensor of all columns and convert to float32\n",
        "\n",
        "# Your code here:\n",
        "px_tensor = torch.tensor(df.Px.values, dtype=torch.float32)# Add your code\n",
        "py_tensor = torch.tensor(df.Py.values, dtype=torch.float32)# Add your code\n",
        "pz_tensor = torch.tensor(df.Pz.values, dtype=torch.float32)\n",
        "pos_tensor = torch.stack([px_tensor, py_tensor, pz_tensor], dim=1) # Add your code\n",
        "print(type(df.values))\n",
        "all_data =  torch.tensor(df.values, dtype=torch.float32)# Add your code\n",
        "\n",
        "# Print shapes\n",
        "print(f\"px_tensor shape: {px_tensor.shape}\")\n",
        "print(f\"py_tensor shape: {py_tensor.shape}\")\n",
        "print(f\"pos_tensor shape: {pos_tensor.shape}\")\n",
        "print(f\"all_data shape: {all_data.shape}\")\n",
        "\n",
        "# ✅ Check your answer\n",
        "answer = {\n",
        "    'px_tensor': px_tensor,\n",
        "    'py_tensor': py_tensor,\n",
        "    'pos_tensor': pos_tensor,\n",
        "    'all_data': all_data\n",
        "}\n",
        "checker.check_exercise(9, answer)"
      ]
    },
    {
      "cell_type": "markdown",
      "metadata": {
        "id": "7g8zx_h9ZGhl"
      },
      "source": [
        "# 7. Using the GPU\n",
        "***\n",
        "PyTorch allows us to use the GPU to accelerate computations. This is done by moving the tensors to the GPU memory. We can do this by using the `to` method of a tensor and passing the device as an argument. The device can be either `cuda` or `cpu`. The `cuda` device refers to the GPU, while the `cpu` device refers to the CPU.\n",
        "\n",
        "> <img src=\"https://raw.githubusercontent.com/CLDiego/uom_fse_dl_workshop/main/figs/icons/reminder.svg\" width=\"20\"/> **Note**: Not all operations are supported on the GPU. If an operation is not supported on the GPU, PyTorch will automatically move the tensor to the CPU and perform the operation there. This can lead to performance issues, so it is important to be aware of which operations are supported on the GPU.\n",
        "\n",
        "***\n",
        "> <img src=\"https://raw.githubusercontent.com/CLDiego/uom_fse_dl_workshop/main/figs/icons/code.svg\" width=\"20\"/> **Snippet 8**: Checking for GPU availability\n",
        "\n",
        "```python\n",
        "# Check if GPU is available\n",
        "if torch.cuda.is_available():\n",
        "    device = torch.device('cuda')  # Use GPU\n",
        "else:\n",
        "    device = torch.device('cpu')  # Use CPU\n",
        "```"
      ]
    },
    {
      "cell_type": "code",
      "execution_count": 50,
      "metadata": {
        "id": "sf9ZnJVGZGhm",
        "outputId": "f550870b-d086-446f-b0c8-849375587df7",
        "colab": {
          "base_uri": "https://localhost:8080/"
        }
      },
      "outputs": [
        {
          "output_type": "stream",
          "name": "stdout",
          "text": [
            "Device: cuda\n",
            "Tensor moved to device: cuda:0\n"
          ]
        }
      ],
      "source": [
        "# Check GPU availability\n",
        "device = torch.device(\"cuda\" if torch.cuda.is_available() else \"cpu\")\n",
        "\n",
        "print(f\"Device: {device}\")\n",
        "\n",
        "# Move the tensor to the GPU\n",
        "px_tensor = px_tensor.to(device)\n",
        "print(f'Tensor moved to device: {px_tensor.device}')"
      ]
    },
    {
      "cell_type": "markdown",
      "metadata": {
        "id": "wXGipjXJZGhm"
      },
      "source": [
        "> <img src=\"https://raw.githubusercontent.com/CLDiego/uom_fse_dl_workshop/main/figs/icons/reminder.svg\" width=\"20\"/> **Tip**: More than one GPU? No problem! PyTorch allows us to use multiple GPUs by specifying the device ID. We can do this by passing the device ID as an argument to the `torch.device()` function. The device ID is a number that identifies the GPU. For example, if we have two GPUs, we can use the first GPU by specifying `cuda:0` and the second GPU by specifying `cuda:1`. We can also use the `torch.cuda.device_count()` function to get the number of available GPUs.\n",
        "\n",
        "## 7.1 When to use the GPU\n",
        "***\n",
        "Using the GPU is beneficial when we are working with large tensors or when we are performing operations that are computationally expensive. For example, training a deep learning model on a large dataset can be accelerated by using the GPU. However, if we are working with small tensors or performing simple operations, using the CPU may be faster.\n",
        "\n",
        "Typically, we use the GPU for computer vision and natural language processing tasks, where the data is large and the operations are computationally expensive.\n",
        "\n",
        "> <img src=\"https://raw.githubusercontent.com/CLDiego/uom_fse_dl_workshop/main/figs/icons/list.svg \" width=\"20\"/> **Note**: When choosing between the CPU and GPU, it is important to make sure that all tensors and models are on the same device. If a tensor is on the CPU and a model is on the GPU, PyTorch will automatically move the tensor to the GPU, which can lead to performance issues. It is important to be aware of which device each tensor and model is on."
      ]
    }
  ],
  "metadata": {
    "kernelspec": {
      "display_name": "Python 3",
      "name": "python3"
    },
    "language_info": {
      "codemirror_mode": {
        "name": "ipython",
        "version": 3
      },
      "file_extension": ".py",
      "mimetype": "text/x-python",
      "name": "python",
      "nbconvert_exporter": "python",
      "pygments_lexer": "ipython3",
      "version": "3.12.2"
    },
    "colab": {
      "provenance": [],
      "gpuType": "T4"
    },
    "accelerator": "GPU"
  },
  "nbformat": 4,
  "nbformat_minor": 0
}